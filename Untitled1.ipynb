{
 "cells": [
  {
   "cell_type": "code",
   "execution_count": 1,
   "id": "a89bef30-a5f5-4502-90c6-2a8a4cffbe20",
   "metadata": {},
   "outputs": [],
   "source": [
    "%load_ext autoreload\n",
    "# %reload_ext autoreload\n",
    "%autoreload 1\n",
    "\n",
    "%aimport b6_epilepsies \n",
    "import b6_epilepsies as b6 #.py file in the same dir as this .ipynb"
   ]
  },
  {
   "cell_type": "code",
   "execution_count": 4,
   "id": "89507c6e-96db-48a8-b618-d9ae86894adc",
   "metadata": {},
   "outputs": [
    {
     "name": "stderr",
     "output_type": "stream",
     "text": [
      "/Users/jadelau/Development/Neuroscience/B6 Epilepsies/b6_epilepsies.py:61: UserWarning: Parsing dates in %Y/%m/%d %H:%M:%S format when dayfirst=True was specified. Pass `dayfirst=False` or specify a format to silence this warning.\n",
      "  temp_df['stdate_sttime'] = pd.to_datetime(temp_df['stdate'] + ' ' + temp_df['sttime'], dayfirst=True)\n",
      "/Users/jadelau/Development/Neuroscience/B6 Epilepsies/b6_epilepsies.py:625: FutureWarning: Support for nested sequences for 'parse_dates' in pd.read_csv is deprecated. Combine the desired columns with pd.to_datetime after parsing instead.\n",
      "  dirty_data = pd.read_csv(self.path + self.name + \".csv\", usecols=cols, low_memory=False, header=0, parse_dates=[['stdate', 'sttime']])\n"
     ]
    },
    {
     "name": "stdout",
     "output_type": "stream",
     "text": [
      "Start of experiment: 2025-01-21 14:28:39\n",
      "File saved at: 250121_14_15_PLPBP/250121_00_DATA.csv\n",
      "Finished.\n"
     ]
    }
   ],
   "source": [
    "#Middur output for Sleep Analysis\n",
    "# Define input variables\n",
    "\n",
    "date   = \"250121\"\n",
    "box1   = \"14\"\n",
    "box2   = \"15\"\n",
    "exp    = \"PLPBP\"\n",
    "export = False\n",
    "\n",
    "data_SA       = b6.MiddurData_SA(date, box1, box2, exp, export)\n",
    "middur_df_SA  = data_SA.prepare_raw_data()\n",
    "# geno_table_SA = data_SA.temp_add_genotype() \n",
    "# merged_df_SA  = data_SA.temp_merge_geno_with_data(middur_df_SA, geno_table_SA)\n",
    "# merged_df_SA.head()"
   ]
  },
  {
   "cell_type": "code",
   "execution_count": null,
   "id": "e7da4bd5-2c30-41cd-9f27-0f966050f07b",
   "metadata": {},
   "outputs": [],
   "source": []
  }
 ],
 "metadata": {
  "kernelspec": {
   "display_name": "Python 3 (ipykernel)",
   "language": "python",
   "name": "python3"
  },
  "language_info": {
   "codemirror_mode": {
    "name": "ipython",
    "version": 3
   },
   "file_extension": ".py",
   "mimetype": "text/x-python",
   "name": "python",
   "nbconvert_exporter": "python",
   "pygments_lexer": "ipython3",
   "version": "3.9.20"
  }
 },
 "nbformat": 4,
 "nbformat_minor": 5
}
