{
 "cells": [
  {
   "cell_type": "code",
   "execution_count": 1,
   "id": "9c30ac1f-a033-4e0e-bba4-49fd4dc2c14e",
   "metadata": {},
   "outputs": [],
   "source": [
    "import cv2\n",
    "import numpy as np\n",
    "\n",
    "# Load video\n",
    "video_path = \"241030_16_17_WT_PTZ/241030_16_17_WT_PTZ_Box1_0001.avi\"\n",
    "cap = cv2.VideoCapture(video_path)\n",
    "\n",
    "# Extract the first frame to detect wells\n",
    "ret, first_frame = cap.read()\n",
    "if not ret:\n",
    "    print(\"Failed to read video.\")\n",
    "    exit()\n",
    "\n",
    "# Convert to grayscale\n",
    "gray = cv2.cvtColor(first_frame, cv2.COLOR_BGR2GRAY)\n",
    "\n",
    "# Preprocess the frame to detect the grid\n",
    "blurred = cv2.GaussianBlur(gray, (5, 5), 0)\n",
    "edges = cv2.Canny(blurred, 50, 150)  # Detect edges\n",
    "\n",
    "# Detect contours to find wells\n",
    "contours, _ = cv2.findContours(edges, cv2.RETR_EXTERNAL, cv2.CHAIN_APPROX_SIMPLE)\n",
    "\n",
    "# Filter contours based on size (adjust as needed for your wells)\n",
    "wells = []\n",
    "for contour in contours:\n",
    "    area = cv2.contourArea(contour)\n",
    "    if 500 < area < 5000:  # Adjust thresholds based on well size\n",
    "        x, y, w, h = cv2.boundingRect(contour)\n",
    "        wells.append((x, y, w, h))\n",
    "\n",
    "# Sort wells to align with the 96-well plate grid (manual sorting may be needed)\n",
    "wells = sorted(wells, key=lambda b: (b[1], b[0]))  # Sort by y, then x coordinates\n",
    "\n",
    "# Initialize trackers for each well\n",
    "trackers = [cv2.TrackerCSRT_create() for _ in wells]\n",
    "for tracker, (x, y, w, h) in zip(trackers, wells):\n",
    "    tracker.init(first_frame, (x, y, w, h))\n",
    "\n",
    "# Process video frames\n",
    "while True:\n",
    "    ret, frame = cap.read()\n",
    "    if not ret:\n",
    "        break\n",
    "\n",
    "    for tracker, (x, y, w, h) in zip(trackers, wells):\n",
    "        success, bbox = tracker.update(frame)\n",
    "        if success:\n",
    "            x, y, w, h = map(int, bbox)\n",
    "            cv2.rectangle(frame, (x, y), (x + w, y + h), (0, 255, 0), 2)  # Draw bounding box\n",
    "\n",
    "    # Display the frame with tracking\n",
    "    cv2.imshow(\"Tracking Wells\", frame)\n",
    "\n",
    "    # Press 'q' to quit\n",
    "    if cv2.waitKey(1) & 0xFF == ord('q'):\n",
    "        break\n",
    "\n",
    "cap.release()\n",
    "cv2.destroyAllWindows()\n"
   ]
  },
  {
   "cell_type": "code",
   "execution_count": null,
   "id": "140f1f47-91aa-4e6b-9e2f-b78210ef980b",
   "metadata": {},
   "outputs": [],
   "source": []
  },
  {
   "cell_type": "code",
   "execution_count": 8,
   "id": "cb1d1b46-b2b6-40e7-9508-754b31d16ef4",
   "metadata": {},
   "outputs": [],
   "source": [
    "cv2.destroyAllWindows()"
   ]
  },
  {
   "cell_type": "code",
   "execution_count": null,
   "id": "a92e94ed-a2fa-490f-8da7-5ff1914f9ae9",
   "metadata": {},
   "outputs": [],
   "source": [
    "positions = {i: [] for i in range(len(wells))}  # Dict to store movements\n",
    "for tracker in trackers:\n",
    "    success, bbox = tracker.update(frame)\n",
    "    if success:\n",
    "        x, y, w, h = map(int, bbox)\n",
    "        positions[i].append((x, y))"
   ]
  },
  {
   "cell_type": "code",
   "execution_count": null,
   "id": "f3dd0eac-88ba-4fbe-bc80-cf3035a55a4a",
   "metadata": {},
   "outputs": [],
   "source": []
  }
 ],
 "metadata": {
  "kernelspec": {
   "display_name": "Python 3 (ipykernel)",
   "language": "python",
   "name": "python3"
  },
  "language_info": {
   "codemirror_mode": {
    "name": "ipython",
    "version": 3
   },
   "file_extension": ".py",
   "mimetype": "text/x-python",
   "name": "python",
   "nbconvert_exporter": "python",
   "pygments_lexer": "ipython3",
   "version": "3.9.20"
  }
 },
 "nbformat": 4,
 "nbformat_minor": 5
}
